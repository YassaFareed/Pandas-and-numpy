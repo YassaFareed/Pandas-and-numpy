{
 "cells": [
  {
   "cell_type": "markdown",
   "metadata": {},
   "source": [
    "Regular expressions are powerful tool for searching "
   ]
  },
  {
   "cell_type": "code",
   "execution_count": 20,
   "metadata": {},
   "outputs": [
    {
     "name": "stdout",
     "output_type": "stream",
     "text": [
      "\n",
      "\n",
      "---using string method---\n",
      "\n",
      "\n",
      "From: stephen.marquard@uct.ac.za\n",
      "From: louis@media.berkeley.edu\n",
      "From: zqian@umich.edu\n",
      "From: rjlowe@iupui.edu\n",
      "From: zqian@umich.edu\n",
      "From: rjlowe@iupui.edu\n",
      "From: cwen@iupui.edu\n",
      "From: cwen@iupui.edu\n",
      "From: gsilver@umich.edu\n",
      "From: gsilver@umich.edu\n",
      "From: zqian@umich.edu\n",
      "From: gsilver@umich.edu\n",
      "From: wagnermr@iupui.edu\n",
      "From: zqian@umich.edu\n",
      "From: antranig@caret.cam.ac.uk\n",
      "From: gopal.ramasammycook@gmail.com\n",
      "From: david.horwitz@uct.ac.za\n",
      "From: david.horwitz@uct.ac.za\n",
      "From: david.horwitz@uct.ac.za\n",
      "From: david.horwitz@uct.ac.za\n",
      "From: stephen.marquard@uct.ac.za\n",
      "From: louis@media.berkeley.edu\n",
      "From: louis@media.berkeley.edu\n",
      "From: ray@media.berkeley.edu\n",
      "From: cwen@iupui.edu\n",
      "From: cwen@iupui.edu\n",
      "From: cwen@iupui.edu\n",
      "\n",
      "\n",
      "---using regular expression method---\n",
      "\n",
      "\n",
      "From: stephen.marquard@uct.ac.za\n",
      "From: louis@media.berkeley.edu\n",
      "From: zqian@umich.edu\n",
      "From: rjlowe@iupui.edu\n",
      "From: zqian@umich.edu\n",
      "From: rjlowe@iupui.edu\n",
      "From: cwen@iupui.edu\n",
      "From: cwen@iupui.edu\n",
      "From: gsilver@umich.edu\n",
      "From: gsilver@umich.edu\n",
      "From: zqian@umich.edu\n",
      "From: gsilver@umich.edu\n",
      "From: wagnermr@iupui.edu\n",
      "From: zqian@umich.edu\n",
      "From: antranig@caret.cam.ac.uk\n",
      "From: gopal.ramasammycook@gmail.com\n",
      "From: david.horwitz@uct.ac.za\n",
      "From: david.horwitz@uct.ac.za\n",
      "From: david.horwitz@uct.ac.za\n",
      "From: david.horwitz@uct.ac.za\n",
      "From: stephen.marquard@uct.ac.za\n",
      "From: louis@media.berkeley.edu\n",
      "From: louis@media.berkeley.edu\n",
      "From: ray@media.berkeley.edu\n",
      "From: cwen@iupui.edu\n",
      "From: cwen@iupui.edu\n",
      "From: cwen@iupui.edu\n"
     ]
    }
   ],
   "source": [
    "# for more stuff related to regular expression https://docs.python.org/3/howto/regex.html\n",
    "#Example 1\n",
    "print(\"\\n\\n---using string method---\\n\\n\")\n",
    "hand=open(\"mbox-short.txt\")\n",
    "for line in hand:\n",
    "    line=line.rstrip()\n",
    "    if line.find(\"From: \")>=0:\n",
    "        print(line)\n",
    "print(\"\\n\\n---using regular expression method---\\n\\n\")\n",
    "import re\n",
    "hand=open(\"mbox-short.txt\")\n",
    "for line in hand:\n",
    "    line=line.rstrip()\n",
    "    if re.search('From:',line):\n",
    "        print(line) \n"
   ]
  },
  {
   "cell_type": "code",
   "execution_count": 22,
   "metadata": {},
   "outputs": [
    {
     "name": "stdout",
     "output_type": "stream",
     "text": [
      "\n",
      "\n",
      "---using string method---\n",
      "\n",
      "\n",
      "From: stephen.marquard@uct.ac.za\n",
      "From: louis@media.berkeley.edu\n",
      "From: zqian@umich.edu\n",
      "From: rjlowe@iupui.edu\n",
      "From: zqian@umich.edu\n",
      "From: rjlowe@iupui.edu\n",
      "From: cwen@iupui.edu\n",
      "From: cwen@iupui.edu\n",
      "From: gsilver@umich.edu\n",
      "From: gsilver@umich.edu\n",
      "From: zqian@umich.edu\n",
      "From: gsilver@umich.edu\n",
      "From: wagnermr@iupui.edu\n",
      "From: zqian@umich.edu\n",
      "From: antranig@caret.cam.ac.uk\n",
      "From: gopal.ramasammycook@gmail.com\n",
      "From: david.horwitz@uct.ac.za\n",
      "From: david.horwitz@uct.ac.za\n",
      "From: david.horwitz@uct.ac.za\n",
      "From: david.horwitz@uct.ac.za\n",
      "From: stephen.marquard@uct.ac.za\n",
      "From: louis@media.berkeley.edu\n",
      "From: louis@media.berkeley.edu\n",
      "From: ray@media.berkeley.edu\n",
      "From: cwen@iupui.edu\n",
      "From: cwen@iupui.edu\n",
      "From: cwen@iupui.edu\n",
      "\n",
      "\n",
      "---using regular expression method---\n",
      "\n",
      "\n",
      "From: stephen.marquard@uct.ac.za\n",
      "From: louis@media.berkeley.edu\n",
      "From: zqian@umich.edu\n",
      "From: rjlowe@iupui.edu\n",
      "From: zqian@umich.edu\n",
      "From: rjlowe@iupui.edu\n",
      "From: cwen@iupui.edu\n",
      "From: cwen@iupui.edu\n",
      "From: gsilver@umich.edu\n",
      "From: gsilver@umich.edu\n",
      "From: zqian@umich.edu\n",
      "From: gsilver@umich.edu\n",
      "From: wagnermr@iupui.edu\n",
      "From: zqian@umich.edu\n",
      "From: antranig@caret.cam.ac.uk\n",
      "From: gopal.ramasammycook@gmail.com\n",
      "From: david.horwitz@uct.ac.za\n",
      "From: david.horwitz@uct.ac.za\n",
      "From: david.horwitz@uct.ac.za\n",
      "From: david.horwitz@uct.ac.za\n",
      "From: stephen.marquard@uct.ac.za\n",
      "From: louis@media.berkeley.edu\n",
      "From: louis@media.berkeley.edu\n",
      "From: ray@media.berkeley.edu\n",
      "From: cwen@iupui.edu\n",
      "From: cwen@iupui.edu\n",
      "From: cwen@iupui.edu\n"
     ]
    }
   ],
   "source": [
    "#Example 2\n",
    "print(\"\\n\\n---using string method---\\n\\n\")\n",
    "hand=open(\"mbox-short.txt\")\n",
    "for line in hand:\n",
    "    line=line.rstrip()\n",
    "    if line.startswith(\"From: \"):\n",
    "        print(line)\n",
    "print(\"\\n\\n---using regular expression method---\\n\\n\")\n",
    "import re\n",
    "hand=open(\"mbox-short.txt\")\n",
    "for line in hand:\n",
    "    line=line.rstrip()\n",
    "    if re.search('^From:',line):\n",
    "        print(line) \n"
   ]
  },
  {
   "cell_type": "markdown",
   "metadata": {},
   "source": [
    "In Regular expressions :\n",
    "- '*' means 0 or more times\n",
    "- '.' matches any character\n",
    "- '^' match the start of the line \n",
    "- '\\S' match any non whitespace character\n",
    "- '+' means 1 or more times\n"
   ]
  },
  {
   "cell_type": "code",
   "execution_count": 32,
   "metadata": {},
   "outputs": [
    {
     "name": "stdout",
     "output_type": "stream",
     "text": [
      "['From: using the :']\n"
     ]
    }
   ],
   "source": [
    "#greedy matching\n",
    "import re\n",
    "x='From: using the :character'\n",
    "y=re.findall('^F.+:',x)  # in a greedy way it extracts the largest part of string starting with F and ending with :\n",
    "print(y) \n"
   ]
  },
  {
   "cell_type": "code",
   "execution_count": 37,
   "metadata": {},
   "outputs": [
    {
     "name": "stdout",
     "output_type": "stream",
     "text": [
      "['From:']\n"
     ]
    }
   ],
   "source": [
    "#non greedy matching\n",
    "import re\n",
    "x='From: using the :character'\n",
    "y=re.findall('^F.+?:',x)  # ? tells stop being greedy \n",
    "print(y) \n"
   ]
  },
  {
   "cell_type": "code",
   "execution_count": 67,
   "metadata": {},
   "outputs": [
    {
     "name": "stdout",
     "output_type": "stream",
     "text": [
      "['stephen.marquard@uct.ac.za']\n"
     ]
    }
   ],
   "source": [
    "x='From stephen.marquard@uct.ac.za Sat Jan  5 09:14:16 2008'\n",
    "y=re.findall('\\S+@\\S+',x)\n",
    "print(y)"
   ]
  },
  {
   "cell_type": "code",
   "execution_count": 47,
   "metadata": {},
   "outputs": [
    {
     "name": "stdout",
     "output_type": "stream",
     "text": [
      "['stephen.marquard@u']\n"
     ]
    }
   ],
   "source": [
    "x='From stephen.marquard@uct.ac.za Sat Jan  5 09:14:16 2008'\n",
    "y=re.findall('\\S+@\\S+?',x)\n",
    "print(y)"
   ]
  },
  {
   "cell_type": "code",
   "execution_count": 49,
   "metadata": {},
   "outputs": [
    {
     "name": "stdout",
     "output_type": "stream",
     "text": [
      "['stephen.marquard@uct.ac.za']\n"
     ]
    }
   ],
   "source": [
    "x='From stephen.marquard@uct.ac.za Sat Jan  5 09:14:16 2008'\n",
    "y=re.findall('^From (\\S+@\\S+)',x) # starting with from extract \\S+@\\S+\n",
    "print(y)"
   ]
  },
  {
   "cell_type": "markdown",
   "metadata": {},
   "source": [
    "Lets compare 2 different ways of extracting by slicing and regular expression"
   ]
  },
  {
   "cell_type": "markdown",
   "metadata": {},
   "source": [
    "1)Extracting the host name-using find and string slicing"
   ]
  },
  {
   "cell_type": "code",
   "execution_count": 59,
   "metadata": {},
   "outputs": [
    {
     "name": "stdout",
     "output_type": "stream",
     "text": [
      "21\n",
      "31\n",
      "uct.ac.za\n"
     ]
    }
   ],
   "source": [
    "#example\n",
    "data='From stephen.marquard@uct.ac.za Sat Jan  5 09:14:16 2008'\n",
    "atpos=data.find('@')\n",
    "print(atpos) #tells the index of @\n",
    "sppos=data.find(' ',atpos) # find first \" \" from atpos postion index\n",
    "print(sppos)\n",
    "host=data[atpos+1:sppos]\n",
    "print(host)"
   ]
  },
  {
   "cell_type": "markdown",
   "metadata": {},
   "source": [
    "2)Double Split pattern -Sometimes we split the line one way, and then grab one of the pieces of the line and split that piece again"
   ]
  },
  {
   "cell_type": "code",
   "execution_count": 60,
   "metadata": {},
   "outputs": [
    {
     "name": "stdout",
     "output_type": "stream",
     "text": [
      "uct.ac.za\n"
     ]
    }
   ],
   "source": [
    "#example\n",
    "data='From stephen.marquard@uct.ac.za Sat Jan  5 09:14:16 2008'\n",
    "words=data.split()\n",
    "email=words[1]\n",
    "pieces=email.split('@')\n",
    "print(pieces[1])"
   ]
  },
  {
   "cell_type": "markdown",
   "metadata": {},
   "source": [
    "Now using regular expression"
   ]
  },
  {
   "cell_type": "code",
   "execution_count": 62,
   "metadata": {},
   "outputs": [
    {
     "name": "stdout",
     "output_type": "stream",
     "text": [
      "['@uct.ac.za']\n"
     ]
    }
   ],
   "source": [
    "import re\n",
    "data='From stephen.marquard@uct.ac.za Sat Jan  5 09:14:16 2008'\n",
    "y=re.findall('@[^ ]*',data)\n",
    "print(y)\n",
    "# so the expression @[^ ]* states that find from @ all the nonblank characters many times but stop when there is a blank\n",
    "\n",
    "# [ ] -match nonblank character"
   ]
  },
  {
   "cell_type": "code",
   "execution_count": 85,
   "metadata": {},
   "outputs": [
    {
     "name": "stdout",
     "output_type": "stream",
     "text": [
      "['@uct.ac.za']\n",
      "['5', '0', '9', '1', '4', '1', '6', '2', '0', '0', '8']\n"
     ]
    }
   ],
   "source": [
    "import re\n",
    "data='From stephen.marquard@uct.ac.za Sat Jan  5 09:14:16 2008'\n",
    "y=re.findall('^From .*(@[^ ]*)',data)\n",
    "z=re.findall('([0-9])',data)\n",
    "print(y)\n",
    "print(z)\n",
    "#so expression states i want to start from From then one space then any number of characters till @ then from @ i begin extracting ('()') all the nonblank characters many times but stop when there is a blank"
   ]
  },
  {
   "cell_type": "code",
   "execution_count": 100,
   "metadata": {},
   "outputs": [
    {
     "name": "stdout",
     "output_type": "stream",
     "text": [
      "[1340, 446, 2607, 7300, 3360, 3277, 3240, 7590, 3153, 9568, 9640, 526, 2104, 561, 7616, 9903, 8451, 1920, 938, 3350, 2409, 1947, 1973, 5893, 1963, 5366, 8791, 7157, 3968, 3649, 4115, 6516, 8011, 2042, 7588, 3286, 3032, 2528, 7649, 9643, 822, 531, 4940, 8184, 4, 492, 6055, 3620, 7297, 9744, 4512, 5580, 2443, 2445, 5495, 6107, 5276, 7502, 404, 2206, 417, 8421, 9148, 3186, 9709, 8382, 6857, 7987, 2576, 8033, 9088, 2275, 1784, 4, 8517, 9557, 7155, 1793, 3201, 8146, 6983, 7398, 6005, 2111, 4, 3, 42]\n",
      "406857\n"
     ]
    }
   ],
   "source": [
    "#calculating sum by extacting numbers from whole passage\n",
    "import re\n",
    "hand=open(\"data.txt\")\n",
    "List=[]\n",
    "for line in hand:\n",
    "    line=line.rstrip()\n",
    "    y=re.findall('[0-9]+',line)\n",
    "        \n",
    "    for i in range(len(y)):\n",
    "        num=int(y[i])\n",
    "        List.append(num)\n",
    "print(List)\n",
    "print(sum(List))"
   ]
  },
  {
   "cell_type": "code",
   "execution_count": null,
   "metadata": {},
   "outputs": [],
   "source": []
  }
 ],
 "metadata": {
  "kernelspec": {
   "display_name": "Python 3",
   "language": "python",
   "name": "python3"
  },
  "language_info": {
   "codemirror_mode": {
    "name": "ipython",
    "version": 3
   },
   "file_extension": ".py",
   "mimetype": "text/x-python",
   "name": "python",
   "nbconvert_exporter": "python",
   "pygments_lexer": "ipython3",
   "version": "3.7.3"
  }
 },
 "nbformat": 4,
 "nbformat_minor": 2
}
