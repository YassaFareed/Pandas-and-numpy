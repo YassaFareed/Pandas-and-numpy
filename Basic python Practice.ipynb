{
 "cells": [
  {
   "cell_type": "markdown",
   "metadata": {},
   "source": []
  },
  {
   "cell_type": "markdown",
   "metadata": {},
   "source": [
    "Exercise 80:Coin Flip Simulation"
   ]
  },
  {
   "attachments": {
    "Capture.JPG": {
     "image/jpeg": "[encoded data removed]"
    }
   },
   "cell_type": "markdown",
   "metadata": {},
   "source": [
    "What’s the minimum number of times you have to ﬂip a coin before you can have three consecutive ﬂips that result in the same outcome (either all three are heads or all three are tails)? What’s the maximum number of ﬂips that might be needed? How\n",
    "many ﬂips are needed on average? In this exercise we will explore these questions by creating a program that simulates several series of coin ﬂips. \n",
    "\n",
    "Create a program that uses Python’s random number generator to simulate ﬂipping a coin several times. The simulated coin should be fair, meaning that the probability of heads is equal to the probability of tails. Your program should ﬂip simulated coins until either 3 consecutive heads of 3 consecutive tails occur. Display an H each time the outcome is heads, and a T each time the outcome is tails, with all of the outcomes shown on the same line. Then display the number of ﬂips needed to reach 3 consecutive ﬂips with the same outcome. When your program is run it should perform the simulation 10 times and report the average number of ﬂips needed. Sample output is shown below:\n",
    "![Capture.JPG](attachment:Capture.JPG)\n"
   ]
  },
  {
   "cell_type": "code",
   "execution_count": 18,
   "metadata": {},
   "outputs": [],
   "source": [
    "#functions\n",
    "import random\n",
    "def Selector():\n",
    "    return random.choice(['H','T'])\n",
    "def Average(list1):\n",
    "    Sum=sum(list1)\n",
    "    n=len(list1)\n",
    "    return Sum/n"
   ]
  },
  {
   "cell_type": "code",
   "execution_count": 17,
   "metadata": {},
   "outputs": [
    {
     "name": "stdout",
     "output_type": "stream",
     "text": [
      "T H H T T T  ( 6 flips) \n",
      "\n",
      "H T H T T H H T T H H T H T T H T T H T T H H T T T  ( 26 flips) \n",
      "\n",
      "H H H  ( 3 flips) \n",
      "\n",
      "H H H  ( 3 flips) \n",
      "\n",
      "T H H H  ( 4 flips) \n",
      "\n",
      "T H T T H T H T H H T T T  ( 13 flips) \n",
      "\n",
      "H T T H H T T H T T H H T H T H H T T T  ( 20 flips) \n",
      "\n",
      "T T T  ( 3 flips) \n",
      "\n",
      "T H H H  ( 4 flips) \n",
      "\n",
      "T T T  ( 3 flips) \n",
      "\n",
      "Average number of flips are : 8.5\n"
     ]
    }
   ],
   "source": [
    "#main block\n",
    "i=0\n",
    "list1=[]\n",
    "while(i<10):\n",
    "    z=0\n",
    "    y=0\n",
    "    k=0\n",
    "    while(1):\n",
    "        a=Selector()\n",
    "        print(a,end=\" \")\n",
    "        if(a=='H'):\n",
    "            k+=1\n",
    "            z+=1\n",
    "            y=0\n",
    "        elif(a=='T'):\n",
    "            k+=1\n",
    "            y+=1\n",
    "            z=0\n",
    "        if(z==3 or y==3):\n",
    "            break\n",
    "    print(\" (\",k,\"flips)\",end=\" \")\n",
    "    i+=1\n",
    "    list1.append(k)\n",
    "    print('\\n')\n",
    "print(\"Average number of flips are :\",Average(list1))\n",
    "            \n",
    "        "
   ]
  },
  {
   "cell_type": "markdown",
   "metadata": {},
   "source": [
    "Exercise 79:Maximum Integer\n",
    "\n",
    "\n",
    "This exercise examines the process of identifying the maximum value in a collection ofintegers.Each of the integers will be randomlyselectedfromthenumbersbetween 1 and 100. The collection of integers may contain duplicate values, and some of the integers between 1 and 100 may not be present. Take a moment and think about how you would handle this problem on paper. Many people would check each integer in sequence and ask themself if the number thattheyarecurrentlyconsideringislargerthanthelargestnumberthattheyhaveseen previously. If it is, then they forget the previous maximum number and remember the current number as the new maximum number. This is a reasonable approach, and will result in the correct answer when the process is performed carefully. If you were performing this task, how many times would you expect to need to update the maximum value and remember a new number?\n",
    "While we can answer the question posed at the end of the previous paragraph using probability theory, we are going to explore it by simulating the situation. Create a program that begins by selecting a random integer between 1 and 100. Save this integer as the maximum number encountered so far. After the initial integer has been selected, generate 99 additional random integers between 1 and 100. Check each integer as it is generated to see if it is larger than the maximum number encountered so far. If it is then your program should update the maximum number encountered and count the fact that you performed an update. Display each integer after you generate it. Include a notation with those integers which represent a new maximum. After you have displayed 100 integers your program should display the maximum value encountered, along with the number of times the maximum value was updated during the process. Partial output for the program is shown below, with… representing the remaining integers that your program will display. Run your program several times. Is the number of updates performed on the maximum value what you expected?\n"
   ]
  },
  {
   "cell_type": "code",
   "execution_count": 1,
   "metadata": {},
   "outputs": [],
   "source": [
    "import random\n",
    "def numbergeneratoR():\n",
    "    return random.randint(1,100)"
   ]
  },
  {
   "cell_type": "code",
   "execution_count": 15,
   "metadata": {},
   "outputs": [
    {
     "name": "stdout",
     "output_type": "stream",
     "text": [
      "23\n",
      "47 <==update\n",
      "43\n",
      "63 <==update\n",
      "94 <==update\n",
      "62\n",
      "21\n",
      "26\n",
      "29\n",
      "36\n",
      "14\n",
      "31\n",
      "72\n",
      "69\n",
      "39\n",
      "42\n",
      "35\n",
      "63\n",
      "29\n",
      "58\n",
      "14\n",
      "16\n",
      "21\n",
      "2\n",
      "18\n",
      "36\n",
      "17\n",
      "8\n",
      "31\n",
      "30\n",
      "79\n",
      "74\n",
      "31\n",
      "16\n",
      "69\n",
      "37\n",
      "63\n",
      "12\n",
      "55\n",
      "39\n",
      "62\n",
      "80\n",
      "1\n",
      "35\n",
      "44\n",
      "98 <==update\n",
      "74\n",
      "81\n",
      "46\n",
      "27\n",
      "15\n",
      "83\n",
      "95\n",
      "56\n",
      "57\n",
      "2\n",
      "98\n",
      "99 <==update\n",
      "67\n",
      "50\n",
      "69\n",
      "17\n",
      "59\n",
      "14\n",
      "20\n",
      "88\n",
      "40\n",
      "74\n",
      "55\n",
      "85\n",
      "95\n",
      "65\n",
      "39\n",
      "86\n",
      "45\n",
      "89\n",
      "8\n",
      "28\n",
      "64\n",
      "8\n",
      "14\n",
      "23\n",
      "61\n",
      "16\n",
      "5\n",
      "95\n",
      "71\n",
      "23\n",
      "45\n",
      "84\n",
      "93\n",
      "18\n",
      "43\n",
      "12\n",
      "23\n",
      "64\n",
      "99\n",
      "88\n",
      "72\n",
      "51\n",
      "Maximum value found was  99\n",
      "Maximum value was updated 5  times\n"
     ]
    }
   ],
   "source": [
    "Max=0\n",
    "counter=0\n",
    "i=0\n",
    "while(i<100):\n",
    "    a=numbergeneratoR()\n",
    "    if(a<=Max):\n",
    "        print(a)\n",
    "    elif(i==0):\n",
    "        Max=a\n",
    "        print(a)\n",
    "    elif(a>Max):\n",
    "        Max=a\n",
    "        print(Max,\"<==update\")\n",
    "        counter+=1\n",
    "    i+=1\n",
    "print(\"Maximum value found was \",Max)\n",
    "print(\"Maximum value was updated\",counter,\" times\")"
   ]
  },
  {
   "cell_type": "markdown",
   "metadata": {},
   "source": [
    "# Exercise 86:TheTwelve Days of Christma"
   ]
  },
  {
   "cell_type": "markdown",
   "metadata": {},
   "source": [
    "The Twelve Days of Christmas is a repetitive song that describes an increasingly long list of gifts sent to one’s true love on each of 12 days. A single gift is sent on the ﬁrst day. A new gift is added to the collection on each additional day, and then the complete collection is sent. The ﬁrst three verses of the song are shown below. The complete lyrics are available on the internet.\n",
    "\n",
    "<br>\n",
    "<br>On the ﬁrst day of Christmas\n",
    "<br>my true love sent to me: \n",
    "<br>A partridge in a pear tree.\n",
    "\n",
    "<br>\n",
    "<br>On the second day of Christmas\n",
    "<br>my true love sent to me: \n",
    "<br>Two turtle doves,\n",
    "<br>And a partridge in a pear tree.\n",
    "\n",
    "<br>\n",
    "<br>On the third day of Christmas \n",
    "<br>my true love sent to me: \n",
    "<br>Three French hens, \n",
    "<br>Two turtle doves,\n",
    "<br>And a partridge in a pear tree.\n",
    "<br>\n",
    "<br>\n",
    "\n",
    "Your task is to write a program that displays the complete lyrics for The Twelve DaysofChristmas.Writeafunctionthattakestheversenumberasitsonlyparameter and displays the speciﬁed verse of the song. Then call that function 12 times with integers that increase from 1 to 12. Each item that is sent to the recipient in the song should only appear once in your program, with the possible exception of the partridge. It may appear twice if that helps you handle the difference between “A partridge in a pear tree” in the ﬁrst verse and “And a partridge in a pear tree” in the subsequent verses. Import your solution to Exercise 85 to help you complete this exercise.\n"
   ]
  },
  {
   "cell_type": "code",
   "execution_count": 5,
   "metadata": {},
   "outputs": [
    {
     "name": "stdout",
     "output_type": "stream",
     "text": [
      "One the  first day of Christmas\n",
      "my true love sent to me\n",
      "A partridge in a peer tree.\n",
      "\n",
      "One the  second day of Christmas\n",
      "my true love sent to me\n",
      "Two turtle doves\n",
      "And a partridge in a peer tree.\n",
      "\n",
      "One the  third day of Christmas\n",
      "my true love sent to me\n",
      "Three French hens\n",
      "Two turtle doves\n",
      "And a partridge in a peer tree.\n",
      "\n",
      "One the  fourth day of Christmas\n",
      "my true love sent to me\n",
      "Four calling birds\n",
      "Three French hens\n",
      "Two turtle doves\n",
      "And a partridge in a peer tree.\n",
      "\n",
      "One the  fifth day of Christmas\n",
      "my true love sent to me\n",
      "Five gold rings, badam-pam-pam\n",
      "Four calling birds\n",
      "Three French hens\n",
      "Two turtle doves\n",
      "And a partridge in a peer tree.\n",
      "\n",
      "One the  sixth day of Christmas\n",
      "my true love sent to me\n",
      "Six geese a laying\n",
      "Five gold rings, badam-pam-pam\n",
      "Four calling birds\n",
      "Three French hens\n",
      "Two turtle doves\n",
      "And a partridge in a peer tree.\n",
      "\n",
      "One the  seventh day of Christmas\n",
      "my true love sent to me\n",
      "Seven swans a swimming\n",
      "Six geese a laying\n",
      "Five gold rings, badam-pam-pam\n",
      "Four calling birds\n",
      "Three French hens\n",
      "Two turtle doves\n",
      "And a partridge in a peer tree.\n",
      "\n",
      "One the  eighth day of Christmas\n",
      "my true love sent to me\n",
      "Eight maids a milking\n",
      "Seven swans a swimming\n",
      "Six geese a laying\n",
      "Five gold rings, badam-pam-pam\n",
      "Four calling birds\n",
      "Three French hens\n",
      "Two turtle doves\n",
      "And a partridge in a peer tree.\n",
      "\n",
      "One the  ninth day of Christmas\n",
      "my true love sent to me\n",
      "Nine ladies dancing\n",
      "Eight maids a milking\n",
      "Seven swans a swimming\n",
      "Six geese a laying\n",
      "Five gold rings, badam-pam-pam\n",
      "Four calling birds\n",
      "Three French hens\n",
      "Two turtle doves\n",
      "And a partridge in a peer tree.\n",
      "\n",
      "One the  tenth day of Christmas\n",
      "my true love sent to me\n",
      "Ten lords a leaping\n",
      "Nine ladies dancing\n",
      "Eight maids a milking\n",
      "Seven swans a swimming\n",
      "Six geese a laying\n",
      "Five gold rings, badam-pam-pam\n",
      "Four calling birds\n",
      "Three French hens\n",
      "Two turtle doves\n",
      "And a partridge in a peer tree.\n",
      "\n",
      "One the  eleventh day of Christmas\n",
      "my true love sent to me\n",
      "Eleven pipers piping\n",
      "Ten lords a leaping\n",
      "Nine ladies dancing\n",
      "Eight maids a milking\n",
      "Seven swans a swimming\n",
      "Six geese a laying\n",
      "Five gold rings, badam-pam-pam\n",
      "Four calling birds\n",
      "Three French hens\n",
      "Two turtle doves\n",
      "And a partridge in a peer tree.\n",
      "\n",
      "One the  twelfth day of Christmas\n",
      "my true love sent to me\n",
      "Twelve drummers drumming\n",
      "Eleven pipers piping\n",
      "Ten lords a leaping\n",
      "Nine ladies dancing\n",
      "Eight maids a milking\n",
      "Seven swans a swimming\n",
      "Six geese a laying\n",
      "Five gold rings, badam-pam-pam\n",
      "Four calling birds\n",
      "Three French hens\n",
      "Two turtle doves\n",
      "And a partridge in a peer tree.\n",
      "\n"
     ]
    }
   ],
   "source": [
    "\n",
    "L=[\"\",\"first\",\"second\",\"third\",\"fourth\",\"fifth\",\"sixth\",\"seventh\",\"eighth\",\"ninth\",\"tenth\",\"eleventh\",\"twelfth\"]\n",
    "def verse(n):\n",
    "    print(\"One the \",L[n],\"day of Christmas\")\n",
    "    print(\"my true love sent to me\")\n",
    "    \n",
    "    if n>=12:\n",
    "        print(\"Twelve drummers drumming\")\n",
    "    if n>=11:\n",
    "        print(\"Eleven pipers piping\")\n",
    "    if n>=10:\n",
    "        print(\"Ten lords a leaping\")\n",
    "    if n>=9:\n",
    "        print(\"Nine ladies dancing\")\n",
    "    if n>=8:\n",
    "        print(\"Eight maids a milking\")\n",
    "    if n>=7:\n",
    "        print(\"Seven swans a swimming\")\n",
    "    if n>=6:\n",
    "        print(\"Six geese a laying\")\n",
    "    if n>=5:\n",
    "        print(\"Five gold rings, badam-pam-pam\")\n",
    "    if n>=4:\n",
    "        print(\"Four calling birds\")\n",
    "    if n>=3:\n",
    "        print(\"Three French hens\")\n",
    "    if n>=2:\n",
    "        print(\"Two turtle doves\")\n",
    "    if n>1:\n",
    "        print(\"And a\",end=\" \")\n",
    "    else:\n",
    "        print(\"A\",end=\" \")\n",
    "    print(\"partridge in a peer tree.\")\n",
    "    print()\n",
    "def main():\n",
    "    for v in range(1,13):\n",
    "        verse(v)\n",
    "main()\n",
    "    \n",
    "    "
   ]
  },
  {
   "cell_type": "markdown",
   "metadata": {},
   "source": [
    "# Exercise 84:Median ofThreeValues"
   ]
  },
  {
   "cell_type": "code",
   "execution_count": 12,
   "metadata": {},
   "outputs": [
    {
     "name": "stdout",
     "output_type": "stream",
     "text": [
      "A :5\n",
      "B :2\n",
      "C :8\n",
      "median =  5\n"
     ]
    }
   ],
   "source": [
    "def median(a,b,c):\n",
    "    if(a<b and b<c or c<b and b<a):\n",
    "        return b \n",
    "    if(b<a and a<c or c<a and a<b):\n",
    "        return a\n",
    "    if(a<c and c<b or b<c and c<a):\n",
    "        return c \n",
    "a=int(input(\"A :\"))\n",
    "b=int(input(\"B :\"))   \n",
    "c=int(input(\"C :\"))\n",
    "print(\"median = \",median(a,b,c))"
   ]
  },
  {
   "cell_type": "markdown",
   "metadata": {},
   "source": [
    "# Exercise 82:Taxi Fare"
   ]
  },
  {
   "cell_type": "markdown",
   "metadata": {},
   "source": [
    "In a particular jurisdiction, taxi fares consist of a base fare of $4.00, plus $0.25 for every 140 meters traveled. Write a function that takes the distance traveled (in kilometers) as its only parameter and returns the total fare as its only result. Write a main program that demonstrates the function."
   ]
  },
  {
   "cell_type": "code",
   "execution_count": 18,
   "metadata": {},
   "outputs": [
    {
     "name": "stdout",
     "output_type": "stream",
     "text": [
      "Enter the distance traveled (in kilometers) :0.14\n",
      "Taxi Fare is = 4.25\n"
     ]
    }
   ],
   "source": [
    "def fare(distance):\n",
    "    d=distance/140;\n",
    "    return 4+0.25*d\n",
    "\n",
    "\n",
    "f=float(input(\"Enter the distance traveled (in kilometers) :\")) #distance taken in kilometers\n",
    "f=f*1000 #converted to meters\n",
    "print(\"Taxi Fare is =\",fare(f))"
   ]
  },
  {
   "cell_type": "markdown",
   "metadata": {},
   "source": [
    "# Exercise 77:Binary to Decimal"
   ]
  },
  {
   "cell_type": "markdown",
   "metadata": {},
   "source": [
    "Write a program that converts a binary (base 2) number to decimal (base 10). Your program should begin by reading the binary number from the user as a string. Then it should compute the equivalent decimal number by processing each digit in the binary number. Finally, your program should display the equivalent decimal number with an appropriate message."
   ]
  },
  {
   "cell_type": "code",
   "execution_count": 39,
   "metadata": {},
   "outputs": [
    {
     "name": "stdout",
     "output_type": "stream",
     "text": [
      "Enter the binary number :11011\n",
      "The equivalent decimal number = 27\n"
     ]
    }
   ],
   "source": [
    "userinput=str(input(\"Enter the binary number :\"))\n",
    "a=[int(x) for x in userinput]\n",
    "length=len(a)\n",
    "decimal=0\n",
    "i=0\n",
    "for y in range(length-1,-1,-1): \n",
    "    decimal=decimal+a[y]*(2**i)\n",
    "    i+=1\n",
    "print(\"The equivalent decimal number =\",decimal)"
   ]
  },
  {
   "cell_type": "markdown",
   "metadata": {},
   "source": [
    "# Exercise 113:Formatting a List"
   ]
  },
  {
   "cell_type": "markdown",
   "metadata": {},
   "source": [
    "When writing out a list of items in English, one normally separates the items with commas.Inaddition,the word“ and” is normally included before the last item,unless the list only contains one item. Consider the following four lists:\n",
    "\n",
    "<br>apples \n",
    "<br>apples and oranges\n",
    "<br>apples, oranges and bananas\n",
    "<br>apples, oranges, bananas and lemons\n",
    "\n",
    "Write a function that takes a list of strings as its only parameter. Your function should return a string that contains all of the items in the list formatted in the manner described previously as its only result. While the examples shown previously only include lists containing four elements or less, your function should behave correctly for lists of any length. Include a main program that reads several items from the user, formats them by calling your function, and then displays the result returned by the function.\n"
   ]
  },
  {
   "cell_type": "code",
   "execution_count": 29,
   "metadata": {},
   "outputs": [
    {
     "name": "stdout",
     "output_type": "stream",
     "text": [
      "Input :apple \n",
      "Input :oranges\n",
      "Input :banana\n",
      "Input :\n",
      "apple ,oranges and banana\n"
     ]
    }
   ],
   "source": [
    "def fun(l):\n",
    "    K=len(l)-2 # -2 because one \" \" is also in list\n",
    "    if(K==0):\n",
    "        print(l[0])\n",
    "    else:\n",
    "        for x in range(K):\n",
    "            if(x==len(l)-3):\n",
    "                print(l[x],end=\" \")\n",
    "            else:\n",
    "                print(l[x],end=\",\")\n",
    "        print(\"and\",l[K])\n",
    "\n",
    "l=[]\n",
    "userinput=input(\"Input :\")\n",
    "l.append(userinput)\n",
    "while(1):\n",
    "    if(userinput==\"\"):\n",
    "        break;\n",
    "    else:\n",
    "        userinput=input(\"Input :\")\n",
    "        l.append(userinput)\n",
    "fun(l)\n",
    "        "
   ]
  },
  {
   "cell_type": "code",
   "execution_count": null,
   "metadata": {},
   "outputs": [],
   "source": []
  }
 ],
 "metadata": {
  "kernelspec": {
   "display_name": "Python 3",
   "language": "python",
   "name": "python3"
  },
  "language_info": {
   "codemirror_mode": {
    "name": "ipython",
    "version": 3
   },
   "file_extension": ".py",
   "mimetype": "text/x-python",
   "name": "python",
   "nbconvert_exporter": "python",
   "pygments_lexer": "ipython3",
   "version": "3.7.3"
  }
 },
 "nbformat": 4,
 "nbformat_minor": 2
}
